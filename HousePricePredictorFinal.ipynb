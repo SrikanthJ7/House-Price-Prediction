{
 "cells": [
  {
   "cell_type": "code",
   "execution_count": 1,
   "id": "2e4b05b9",
   "metadata": {
    "_cell_guid": "b1076dfc-b9ad-4769-8c92-a6c4dae69d19",
    "_uuid": "8f2839f25d086af736a60e9eeb907d3b93b6e0e5",
    "execution": {
     "iopub.execute_input": "2024-09-03T22:10:41.527368Z",
     "iopub.status.busy": "2024-09-03T22:10:41.526717Z",
     "iopub.status.idle": "2024-09-03T22:10:42.073153Z",
     "shell.execute_reply": "2024-09-03T22:10:42.071356Z"
    },
    "papermill": {
     "duration": 0.561506,
     "end_time": "2024-09-03T22:10:42.076304",
     "exception": false,
     "start_time": "2024-09-03T22:10:41.514798",
     "status": "completed"
    },
    "tags": []
   },
   "outputs": [
    {
     "name": "stdout",
     "output_type": "stream",
     "text": [
      "/kaggle/input/house-prices-advanced-regression-techniques/sample_submission.csv\n",
      "/kaggle/input/house-prices-advanced-regression-techniques/data_description.txt\n",
      "/kaggle/input/house-prices-advanced-regression-techniques/train.csv\n",
      "/kaggle/input/house-prices-advanced-regression-techniques/test.csv\n"
     ]
    }
   ],
   "source": [
    "# This Python 3 environment comes with many helpful analytics libraries installed\n",
    "# It is defined by the kaggle/python Docker image: https://github.com/kaggle/docker-python\n",
    "# For example, here's several helpful packages to load\n",
    "\n",
    "import numpy as np # linear algebra\n",
    "import pandas as pd # data processing, CSV file I/O (e.g. pd.read_csv)\n",
    "\n",
    "# Input data files are available in the read-only \"../input/\" directory\n",
    "# For example, running this (by clicking run or pressing Shift+Enter) will list all files under the input directory\n",
    "\n",
    "import os\n",
    "for dirname, _, filenames in os.walk('/kaggle/input'):\n",
    "    for filename in filenames:\n",
    "        print(os.path.join(dirname, filename))\n",
    "\n",
    "# You can write up to 20GB to the current directory (/kaggle/working/) that gets preserved as output when you create a version using \"Save & Run All\" \n",
    "# You can also write temporary files to /kaggle/temp/, but they won't be saved outside of the current session"
   ]
  },
  {
   "cell_type": "code",
   "execution_count": 2,
   "id": "3cacf8c3",
   "metadata": {
    "execution": {
     "iopub.execute_input": "2024-09-03T22:10:42.098424Z",
     "iopub.status.busy": "2024-09-03T22:10:42.097748Z",
     "iopub.status.idle": "2024-09-03T22:10:42.196185Z",
     "shell.execute_reply": "2024-09-03T22:10:42.194665Z"
    },
    "papermill": {
     "duration": 0.113238,
     "end_time": "2024-09-03T22:10:42.199487",
     "exception": false,
     "start_time": "2024-09-03T22:10:42.086249",
     "status": "completed"
    },
    "tags": []
   },
   "outputs": [],
   "source": [
    "# read train and test data as datasets \n",
    "train = pd.read_csv(\"/kaggle/input/house-prices-advanced-regression-techniques/train.csv\")\n",
    "test = pd.read_csv('/kaggle/input/house-prices-advanced-regression-techniques/test.csv')"
   ]
  },
  {
   "cell_type": "code",
   "execution_count": 3,
   "id": "813c9d38",
   "metadata": {
    "execution": {
     "iopub.execute_input": "2024-09-03T22:10:42.220984Z",
     "iopub.status.busy": "2024-09-03T22:10:42.220492Z",
     "iopub.status.idle": "2024-09-03T22:10:42.269194Z",
     "shell.execute_reply": "2024-09-03T22:10:42.267720Z"
    },
    "papermill": {
     "duration": 0.063388,
     "end_time": "2024-09-03T22:10:42.272520",
     "exception": false,
     "start_time": "2024-09-03T22:10:42.209132",
     "status": "completed"
    },
    "tags": []
   },
   "outputs": [
    {
     "data": {
      "text/html": [
       "<div>\n",
       "<style scoped>\n",
       "    .dataframe tbody tr th:only-of-type {\n",
       "        vertical-align: middle;\n",
       "    }\n",
       "\n",
       "    .dataframe tbody tr th {\n",
       "        vertical-align: top;\n",
       "    }\n",
       "\n",
       "    .dataframe thead th {\n",
       "        text-align: right;\n",
       "    }\n",
       "</style>\n",
       "<table border=\"1\" class=\"dataframe\">\n",
       "  <thead>\n",
       "    <tr style=\"text-align: right;\">\n",
       "      <th></th>\n",
       "      <th>Id</th>\n",
       "      <th>MSSubClass</th>\n",
       "      <th>MSZoning</th>\n",
       "      <th>LotFrontage</th>\n",
       "      <th>LotArea</th>\n",
       "      <th>Street</th>\n",
       "      <th>Alley</th>\n",
       "      <th>LotShape</th>\n",
       "      <th>LandContour</th>\n",
       "      <th>Utilities</th>\n",
       "      <th>...</th>\n",
       "      <th>PoolArea</th>\n",
       "      <th>PoolQC</th>\n",
       "      <th>Fence</th>\n",
       "      <th>MiscFeature</th>\n",
       "      <th>MiscVal</th>\n",
       "      <th>MoSold</th>\n",
       "      <th>YrSold</th>\n",
       "      <th>SaleType</th>\n",
       "      <th>SaleCondition</th>\n",
       "      <th>SalePrice</th>\n",
       "    </tr>\n",
       "  </thead>\n",
       "  <tbody>\n",
       "    <tr>\n",
       "      <th>0</th>\n",
       "      <td>1</td>\n",
       "      <td>60</td>\n",
       "      <td>RL</td>\n",
       "      <td>65.0</td>\n",
       "      <td>8450</td>\n",
       "      <td>Pave</td>\n",
       "      <td>NaN</td>\n",
       "      <td>Reg</td>\n",
       "      <td>Lvl</td>\n",
       "      <td>AllPub</td>\n",
       "      <td>...</td>\n",
       "      <td>0</td>\n",
       "      <td>NaN</td>\n",
       "      <td>NaN</td>\n",
       "      <td>NaN</td>\n",
       "      <td>0</td>\n",
       "      <td>2</td>\n",
       "      <td>2008</td>\n",
       "      <td>WD</td>\n",
       "      <td>Normal</td>\n",
       "      <td>208500</td>\n",
       "    </tr>\n",
       "    <tr>\n",
       "      <th>1</th>\n",
       "      <td>2</td>\n",
       "      <td>20</td>\n",
       "      <td>RL</td>\n",
       "      <td>80.0</td>\n",
       "      <td>9600</td>\n",
       "      <td>Pave</td>\n",
       "      <td>NaN</td>\n",
       "      <td>Reg</td>\n",
       "      <td>Lvl</td>\n",
       "      <td>AllPub</td>\n",
       "      <td>...</td>\n",
       "      <td>0</td>\n",
       "      <td>NaN</td>\n",
       "      <td>NaN</td>\n",
       "      <td>NaN</td>\n",
       "      <td>0</td>\n",
       "      <td>5</td>\n",
       "      <td>2007</td>\n",
       "      <td>WD</td>\n",
       "      <td>Normal</td>\n",
       "      <td>181500</td>\n",
       "    </tr>\n",
       "    <tr>\n",
       "      <th>2</th>\n",
       "      <td>3</td>\n",
       "      <td>60</td>\n",
       "      <td>RL</td>\n",
       "      <td>68.0</td>\n",
       "      <td>11250</td>\n",
       "      <td>Pave</td>\n",
       "      <td>NaN</td>\n",
       "      <td>IR1</td>\n",
       "      <td>Lvl</td>\n",
       "      <td>AllPub</td>\n",
       "      <td>...</td>\n",
       "      <td>0</td>\n",
       "      <td>NaN</td>\n",
       "      <td>NaN</td>\n",
       "      <td>NaN</td>\n",
       "      <td>0</td>\n",
       "      <td>9</td>\n",
       "      <td>2008</td>\n",
       "      <td>WD</td>\n",
       "      <td>Normal</td>\n",
       "      <td>223500</td>\n",
       "    </tr>\n",
       "    <tr>\n",
       "      <th>3</th>\n",
       "      <td>4</td>\n",
       "      <td>70</td>\n",
       "      <td>RL</td>\n",
       "      <td>60.0</td>\n",
       "      <td>9550</td>\n",
       "      <td>Pave</td>\n",
       "      <td>NaN</td>\n",
       "      <td>IR1</td>\n",
       "      <td>Lvl</td>\n",
       "      <td>AllPub</td>\n",
       "      <td>...</td>\n",
       "      <td>0</td>\n",
       "      <td>NaN</td>\n",
       "      <td>NaN</td>\n",
       "      <td>NaN</td>\n",
       "      <td>0</td>\n",
       "      <td>2</td>\n",
       "      <td>2006</td>\n",
       "      <td>WD</td>\n",
       "      <td>Abnorml</td>\n",
       "      <td>140000</td>\n",
       "    </tr>\n",
       "    <tr>\n",
       "      <th>4</th>\n",
       "      <td>5</td>\n",
       "      <td>60</td>\n",
       "      <td>RL</td>\n",
       "      <td>84.0</td>\n",
       "      <td>14260</td>\n",
       "      <td>Pave</td>\n",
       "      <td>NaN</td>\n",
       "      <td>IR1</td>\n",
       "      <td>Lvl</td>\n",
       "      <td>AllPub</td>\n",
       "      <td>...</td>\n",
       "      <td>0</td>\n",
       "      <td>NaN</td>\n",
       "      <td>NaN</td>\n",
       "      <td>NaN</td>\n",
       "      <td>0</td>\n",
       "      <td>12</td>\n",
       "      <td>2008</td>\n",
       "      <td>WD</td>\n",
       "      <td>Normal</td>\n",
       "      <td>250000</td>\n",
       "    </tr>\n",
       "  </tbody>\n",
       "</table>\n",
       "<p>5 rows × 81 columns</p>\n",
       "</div>"
      ],
      "text/plain": [
       "   Id  MSSubClass MSZoning  LotFrontage  LotArea Street Alley LotShape  \\\n",
       "0   1          60       RL         65.0     8450   Pave   NaN      Reg   \n",
       "1   2          20       RL         80.0     9600   Pave   NaN      Reg   \n",
       "2   3          60       RL         68.0    11250   Pave   NaN      IR1   \n",
       "3   4          70       RL         60.0     9550   Pave   NaN      IR1   \n",
       "4   5          60       RL         84.0    14260   Pave   NaN      IR1   \n",
       "\n",
       "  LandContour Utilities  ... PoolArea PoolQC Fence MiscFeature MiscVal MoSold  \\\n",
       "0         Lvl    AllPub  ...        0    NaN   NaN         NaN       0      2   \n",
       "1         Lvl    AllPub  ...        0    NaN   NaN         NaN       0      5   \n",
       "2         Lvl    AllPub  ...        0    NaN   NaN         NaN       0      9   \n",
       "3         Lvl    AllPub  ...        0    NaN   NaN         NaN       0      2   \n",
       "4         Lvl    AllPub  ...        0    NaN   NaN         NaN       0     12   \n",
       "\n",
       "  YrSold  SaleType  SaleCondition  SalePrice  \n",
       "0   2008        WD         Normal     208500  \n",
       "1   2007        WD         Normal     181500  \n",
       "2   2008        WD         Normal     223500  \n",
       "3   2006        WD        Abnorml     140000  \n",
       "4   2008        WD         Normal     250000  \n",
       "\n",
       "[5 rows x 81 columns]"
      ]
     },
     "execution_count": 3,
     "metadata": {},
     "output_type": "execute_result"
    }
   ],
   "source": [
    "train.head()"
   ]
  },
  {
   "cell_type": "code",
   "execution_count": 4,
   "id": "545e80b9",
   "metadata": {
    "execution": {
     "iopub.execute_input": "2024-09-03T22:10:42.296855Z",
     "iopub.status.busy": "2024-09-03T22:10:42.295940Z",
     "iopub.status.idle": "2024-09-03T22:10:42.304332Z",
     "shell.execute_reply": "2024-09-03T22:10:42.303102Z"
    },
    "papermill": {
     "duration": 0.024429,
     "end_time": "2024-09-03T22:10:42.307392",
     "exception": false,
     "start_time": "2024-09-03T22:10:42.282963",
     "status": "completed"
    },
    "tags": []
   },
   "outputs": [],
   "source": [
    "X = train.drop([\"Id\", \"SalePrice\"], axis = 1)\n",
    "Y = train[\"SalePrice\"]"
   ]
  },
  {
   "cell_type": "code",
   "execution_count": 5,
   "id": "bd11e473",
   "metadata": {
    "execution": {
     "iopub.execute_input": "2024-09-03T22:10:42.329759Z",
     "iopub.status.busy": "2024-09-03T22:10:42.329335Z",
     "iopub.status.idle": "2024-09-03T22:10:42.422920Z",
     "shell.execute_reply": "2024-09-03T22:10:42.421373Z"
    },
    "papermill": {
     "duration": 0.108766,
     "end_time": "2024-09-03T22:10:42.426421",
     "exception": false,
     "start_time": "2024-09-03T22:10:42.317655",
     "status": "completed"
    },
    "tags": []
   },
   "outputs": [
    {
     "name": "stdout",
     "output_type": "stream",
     "text": [
      "train shape = (1460, 81)\n",
      "test shape : (1459, 80)\n",
      "                Id   MSSubClass  LotFrontage        LotArea  OverallQual  \\\n",
      "count  1460.000000  1460.000000  1201.000000    1460.000000  1460.000000   \n",
      "mean    730.500000    56.897260    70.049958   10516.828082     6.099315   \n",
      "std     421.610009    42.300571    24.284752    9981.264932     1.382997   \n",
      "min       1.000000    20.000000    21.000000    1300.000000     1.000000   \n",
      "25%     365.750000    20.000000    59.000000    7553.500000     5.000000   \n",
      "50%     730.500000    50.000000    69.000000    9478.500000     6.000000   \n",
      "75%    1095.250000    70.000000    80.000000   11601.500000     7.000000   \n",
      "max    1460.000000   190.000000   313.000000  215245.000000    10.000000   \n",
      "\n",
      "       OverallCond    YearBuilt  YearRemodAdd   MasVnrArea   BsmtFinSF1  ...  \\\n",
      "count  1460.000000  1460.000000   1460.000000  1452.000000  1460.000000  ...   \n",
      "mean      5.575342  1971.267808   1984.865753   103.685262   443.639726  ...   \n",
      "std       1.112799    30.202904     20.645407   181.066207   456.098091  ...   \n",
      "min       1.000000  1872.000000   1950.000000     0.000000     0.000000  ...   \n",
      "25%       5.000000  1954.000000   1967.000000     0.000000     0.000000  ...   \n",
      "50%       5.000000  1973.000000   1994.000000     0.000000   383.500000  ...   \n",
      "75%       6.000000  2000.000000   2004.000000   166.000000   712.250000  ...   \n",
      "max       9.000000  2010.000000   2010.000000  1600.000000  5644.000000  ...   \n",
      "\n",
      "        WoodDeckSF  OpenPorchSF  EnclosedPorch    3SsnPorch  ScreenPorch  \\\n",
      "count  1460.000000  1460.000000    1460.000000  1460.000000  1460.000000   \n",
      "mean     94.244521    46.660274      21.954110     3.409589    15.060959   \n",
      "std     125.338794    66.256028      61.119149    29.317331    55.757415   \n",
      "min       0.000000     0.000000       0.000000     0.000000     0.000000   \n",
      "25%       0.000000     0.000000       0.000000     0.000000     0.000000   \n",
      "50%       0.000000    25.000000       0.000000     0.000000     0.000000   \n",
      "75%     168.000000    68.000000       0.000000     0.000000     0.000000   \n",
      "max     857.000000   547.000000     552.000000   508.000000   480.000000   \n",
      "\n",
      "          PoolArea       MiscVal       MoSold       YrSold      SalePrice  \n",
      "count  1460.000000   1460.000000  1460.000000  1460.000000    1460.000000  \n",
      "mean      2.758904     43.489041     6.321918  2007.815753  180921.195890  \n",
      "std      40.177307    496.123024     2.703626     1.328095   79442.502883  \n",
      "min       0.000000      0.000000     1.000000  2006.000000   34900.000000  \n",
      "25%       0.000000      0.000000     5.000000  2007.000000  129975.000000  \n",
      "50%       0.000000      0.000000     6.000000  2008.000000  163000.000000  \n",
      "75%       0.000000      0.000000     8.000000  2009.000000  214000.000000  \n",
      "max     738.000000  15500.000000    12.000000  2010.000000  755000.000000  \n",
      "\n",
      "[8 rows x 38 columns]\n"
     ]
    }
   ],
   "source": [
    "# explore train and test dataset\n",
    "print(f\"train shape = {train.shape}\")\n",
    "print(f\"test shape : {test.shape}\")\n",
    "print(train.describe())"
   ]
  },
  {
   "cell_type": "code",
   "execution_count": 6,
   "id": "a2b6bac3",
   "metadata": {
    "execution": {
     "iopub.execute_input": "2024-09-03T22:10:42.450152Z",
     "iopub.status.busy": "2024-09-03T22:10:42.449306Z",
     "iopub.status.idle": "2024-09-03T22:10:44.012546Z",
     "shell.execute_reply": "2024-09-03T22:10:44.011256Z"
    },
    "papermill": {
     "duration": 1.578183,
     "end_time": "2024-09-03T22:10:44.015584",
     "exception": false,
     "start_time": "2024-09-03T22:10:42.437401",
     "status": "completed"
    },
    "tags": []
   },
   "outputs": [],
   "source": [
    "#split to train and development sets\n",
    "from sklearn.model_selection import train_test_split\n",
    "x_train, x_test, y_train, y_test = train_test_split(X, Y, test_size = 0.3, random_state=42)"
   ]
  },
  {
   "cell_type": "code",
   "execution_count": 7,
   "id": "9a404518",
   "metadata": {
    "execution": {
     "iopub.execute_input": "2024-09-03T22:10:44.037655Z",
     "iopub.status.busy": "2024-09-03T22:10:44.037060Z",
     "iopub.status.idle": "2024-09-03T22:10:44.599551Z",
     "shell.execute_reply": "2024-09-03T22:10:44.598117Z"
    },
    "papermill": {
     "duration": 0.576568,
     "end_time": "2024-09-03T22:10:44.602240",
     "exception": false,
     "start_time": "2024-09-03T22:10:44.025672",
     "status": "completed"
    },
    "tags": []
   },
   "outputs": [
    {
     "name": "stdout",
     "output_type": "stream",
     "text": [
      "LotFrontage     18.590998\n",
      "Alley           93.542074\n",
      "MasVnrType      57.729941\n",
      "MasVnrArea       0.293542\n",
      "BsmtQual         2.544031\n",
      "BsmtCond         2.544031\n",
      "BsmtExposure     2.544031\n",
      "BsmtFinType1     2.544031\n",
      "BsmtFinType2     2.544031\n",
      "Electrical       0.097847\n",
      "FireplaceQu     47.651663\n",
      "GarageType       5.283757\n",
      "GarageYrBlt      5.283757\n",
      "GarageFinish     5.283757\n",
      "GarageQual       5.283757\n",
      "GarageCond       5.283757\n",
      "PoolQC          99.510763\n",
      "Fence           80.234834\n",
      "MiscFeature     96.086106\n",
      "dtype: float64\n"
     ]
    },
    {
     "data": {
      "image/png": "[encoded data removed]",
      "text/plain": [
       "<Figure size 640x480 with 1 Axes>"
      ]
     },
     "metadata": {},
     "output_type": "display_data"
    }
   ],
   "source": [
    "# check for missing values\n",
    "missing = x_train.isnull().sum()\n",
    "missing = missing[missing > 0]\n",
    "null_percentage = missing/x_train.shape[0]* 100\n",
    "missing.plot.bar()\n",
    "print(null_percentage)"
   ]
  },
  {
   "cell_type": "code",
   "execution_count": 8,
   "id": "ad256cd1",
   "metadata": {
    "execution": {
     "iopub.execute_input": "2024-09-03T22:10:44.626246Z",
     "iopub.status.busy": "2024-09-03T22:10:44.624982Z",
     "iopub.status.idle": "2024-09-03T22:10:44.633646Z",
     "shell.execute_reply": "2024-09-03T22:10:44.632490Z"
    },
    "papermill": {
     "duration": 0.023093,
     "end_time": "2024-09-03T22:10:44.636185",
     "exception": false,
     "start_time": "2024-09-03T22:10:44.613092",
     "status": "completed"
    },
    "tags": []
   },
   "outputs": [
    {
     "data": {
      "text/plain": [
       "array([nan, 'Pave', 'Grvl'], dtype=object)"
      ]
     },
     "execution_count": 8,
     "metadata": {},
     "output_type": "execute_result"
    }
   ],
   "source": [
    "x_train[\"Alley\"].unique()"
   ]
  },
  {
   "cell_type": "code",
   "execution_count": 9,
   "id": "7155bd95",
   "metadata": {
    "execution": {
     "iopub.execute_input": "2024-09-03T22:10:44.659691Z",
     "iopub.status.busy": "2024-09-03T22:10:44.659243Z",
     "iopub.status.idle": "2024-09-03T22:10:44.667598Z",
     "shell.execute_reply": "2024-09-03T22:10:44.666326Z"
    },
    "papermill": {
     "duration": 0.022864,
     "end_time": "2024-09-03T22:10:44.669918",
     "exception": false,
     "start_time": "2024-09-03T22:10:44.647054",
     "status": "completed"
    },
    "tags": []
   },
   "outputs": [
    {
     "data": {
      "text/plain": [
       "array([nan, 'Ex', 'Gd', 'Fa'], dtype=object)"
      ]
     },
     "execution_count": 9,
     "metadata": {},
     "output_type": "execute_result"
    }
   ],
   "source": [
    "x_train[\"PoolQC\"].unique()"
   ]
  },
  {
   "cell_type": "code",
   "execution_count": 10,
   "id": "df27acf0",
   "metadata": {
    "execution": {
     "iopub.execute_input": "2024-09-03T22:10:44.693457Z",
     "iopub.status.busy": "2024-09-03T22:10:44.692981Z",
     "iopub.status.idle": "2024-09-03T22:10:44.701001Z",
     "shell.execute_reply": "2024-09-03T22:10:44.699733Z"
    },
    "papermill": {
     "duration": 0.022629,
     "end_time": "2024-09-03T22:10:44.703393",
     "exception": false,
     "start_time": "2024-09-03T22:10:44.680764",
     "status": "completed"
    },
    "tags": []
   },
   "outputs": [
    {
     "data": {
      "text/plain": [
       "array(['MnPrv', nan, 'GdPrv', 'GdWo', 'MnWw'], dtype=object)"
      ]
     },
     "execution_count": 10,
     "metadata": {},
     "output_type": "execute_result"
    }
   ],
   "source": [
    "x_train[\"Fence\"].unique()"
   ]
  },
  {
   "cell_type": "code",
   "execution_count": 11,
   "id": "47995c78",
   "metadata": {
    "execution": {
     "iopub.execute_input": "2024-09-03T22:10:44.727419Z",
     "iopub.status.busy": "2024-09-03T22:10:44.726935Z",
     "iopub.status.idle": "2024-09-03T22:10:44.735273Z",
     "shell.execute_reply": "2024-09-03T22:10:44.734134Z"
    },
    "papermill": {
     "duration": 0.023036,
     "end_time": "2024-09-03T22:10:44.737648",
     "exception": false,
     "start_time": "2024-09-03T22:10:44.714612",
     "status": "completed"
    },
    "tags": []
   },
   "outputs": [
    {
     "data": {
      "text/plain": [
       "array([nan, 'Shed', 'Othr', 'Gar2', 'TenC'], dtype=object)"
      ]
     },
     "execution_count": 11,
     "metadata": {},
     "output_type": "execute_result"
    }
   ],
   "source": [
    "x_train[\"MiscFeature\"].unique()"
   ]
  },
  {
   "cell_type": "code",
   "execution_count": 12,
   "id": "4c1a3a11",
   "metadata": {
    "execution": {
     "iopub.execute_input": "2024-09-03T22:10:44.762270Z",
     "iopub.status.busy": "2024-09-03T22:10:44.761265Z",
     "iopub.status.idle": "2024-09-03T22:10:44.782042Z",
     "shell.execute_reply": "2024-09-03T22:10:44.780783Z"
    },
    "papermill": {
     "duration": 0.036176,
     "end_time": "2024-09-03T22:10:44.784878",
     "exception": false,
     "start_time": "2024-09-03T22:10:44.748702",
     "status": "completed"
    },
    "tags": []
   },
   "outputs": [
    {
     "name": "stdout",
     "output_type": "stream",
     "text": [
      "categorical columns are:\n",
      "['MSZoning', 'Street', 'Alley', 'LotShape', 'LandContour', 'Utilities', 'LotConfig', 'LandSlope', 'Neighborhood', 'Condition1', 'Condition2', 'BldgType', 'HouseStyle', 'RoofStyle', 'RoofMatl', 'Exterior1st', 'Exterior2nd', 'MasVnrType', 'ExterQual', 'ExterCond', 'Foundation', 'BsmtQual', 'BsmtCond', 'BsmtExposure', 'BsmtFinType1', 'BsmtFinType2', 'Heating', 'HeatingQC', 'CentralAir', 'Electrical', 'KitchenQual', 'Functional', 'FireplaceQu', 'GarageType', 'GarageFinish', 'GarageQual', 'GarageCond', 'PavedDrive', 'PoolQC', 'Fence', 'MiscFeature', 'SaleType', 'SaleCondition']\n",
      "################################################\n",
      "numerical columns are:\n",
      "['MSSubClass', 'LotFrontage', 'LotArea', 'OverallQual', 'OverallCond', 'YearBuilt', 'YearRemodAdd', 'MasVnrArea', 'BsmtFinSF1', 'BsmtFinSF2', 'BsmtUnfSF', 'TotalBsmtSF', '1stFlrSF', '2ndFlrSF', 'LowQualFinSF', 'GrLivArea', 'BsmtFullBath', 'BsmtHalfBath', 'FullBath', 'HalfBath', 'BedroomAbvGr', 'KitchenAbvGr', 'TotRmsAbvGrd', 'Fireplaces', 'GarageYrBlt', 'GarageCars', 'GarageArea', 'WoodDeckSF', 'OpenPorchSF', 'EnclosedPorch', '3SsnPorch', 'ScreenPorch', 'PoolArea', 'MiscVal', 'MoSold', 'YrSold']\n"
     ]
    }
   ],
   "source": [
    "# check for categorical and numerical columns\n",
    "categorical = [f for f in x_train.columns if x_train.dtypes[f] == \"object\"]\n",
    "print(f\"categorical columns are:\\n{categorical}\")\n",
    "print(\"################################################\")\n",
    "numerical = [f for f in x_train.columns if x_train.dtypes[f] != \"object\"]\n",
    "print(f\"numerical columns are:\\n{numerical}\")"
   ]
  },
  {
   "cell_type": "code",
   "execution_count": 13,
   "id": "4d58ca1e",
   "metadata": {
    "execution": {
     "iopub.execute_input": "2024-09-03T22:10:44.810286Z",
     "iopub.status.busy": "2024-09-03T22:10:44.809184Z",
     "iopub.status.idle": "2024-09-03T22:10:45.452039Z",
     "shell.execute_reply": "2024-09-03T22:10:45.450895Z"
    },
    "papermill": {
     "duration": 0.658393,
     "end_time": "2024-09-03T22:10:45.454723",
     "exception": false,
     "start_time": "2024-09-03T22:10:44.796330",
     "status": "completed"
    },
    "tags": []
   },
   "outputs": [
    {
     "name": "stdout",
     "output_type": "stream",
     "text": [
      "['ExterQual', 'BsmtQual', 'HeatingQC', 'KitchenQual', 'FireplaceQu', 'GarageQual', 'PoolQC']\n"
     ]
    },
    {
     "name": "stderr",
     "output_type": "stream",
     "text": [
      "/opt/conda/lib/python3.10/site-packages/sklearn/preprocessing/_encoders.py:868: FutureWarning: `sparse` was renamed to `sparse_output` in version 1.2 and will be removed in 1.4. `sparse_output` is ignored unless you leave `sparse` to its default value.\n",
      "  warnings.warn(\n",
      "/opt/conda/lib/python3.10/site-packages/sklearn/preprocessing/_encoders.py:202: UserWarning: Found unknown categories in columns [10, 14, 15, 26] during transform. These unknown categories will be encoded as all zeros\n",
      "  warnings.warn(\n"
     ]
    }
   ],
   "source": [
    "#encode categorical values\n",
    "from sklearn.compose import ColumnTransformer\n",
    "from sklearn.preprocessing import OneHotEncoder, OrdinalEncoder\n",
    "from sklearn.preprocessing import PowerTransformer\n",
    "from sklearn.preprocessing import LabelEncoder\n",
    "from sklearn.preprocessing import MinMaxScaler\n",
    "from sklearn.pipeline import Pipeline\n",
    "from sklearn.impute import SimpleImputer\n",
    "\n",
    "# Convert the datatype of categorical columns to category\n",
    "for col in categorical:\n",
    "    x_train[col] = x_train[col].astype(\"category\")\n",
    "    \n",
    "# Convert the datatype of numerical columns to float32\n",
    "for col in numerical:\n",
    "    x_train[col] = x_train[col].astype(\"float32\")\n",
    "    \n",
    "#columns for ordinal encoding\n",
    "ordinal_columns = [col for col in categorical if 'Q'  in col]\n",
    "print(ordinal_columns)\n",
    "# Columns for one-hot encoding\n",
    "one_hot_columns = [col for col in categorical if col not in ordinal_columns]\n",
    "\n",
    "\n",
    "# Define the transformers\n",
    "preprocessor = ColumnTransformer(\n",
    "    transformers=[\n",
    "        ('ord', Pipeline([\n",
    "            ('imputer', SimpleImputer(strategy='constant', fill_value='missed')),  # Fill missing with \"missed\"\n",
    "            ('encoder', OrdinalEncoder(handle_unknown='use_encoded_value', unknown_value=-1))\n",
    "        ]), ordinal_columns),\n",
    "        ('onehot', Pipeline([\n",
    "            ('imputer', SimpleImputer(strategy='constant', fill_value='missed')),  # Fill missing with \"missed\"\n",
    "            ('encoder', OneHotEncoder(drop='first',handle_unknown=\"ignore\", sparse = False))\n",
    "        ]), one_hot_columns),\n",
    "        ('num', Pipeline([\n",
    "            ('imputer', SimpleImputer(strategy='constant', fill_value=0)),# Fill missing with 0\n",
    "            (\"scaler\", MinMaxScaler()),\n",
    "            (\"po\",PowerTransformer(method='yeo-johnson'))\n",
    "        ]), numerical)\n",
    "    ]\n",
    ")\n",
    "\n",
    "\n",
    "preprocessor.fit(x_train)\n",
    "x_train_transformed = preprocessor.transform(x_train)\n",
    "x_test_transformed =  preprocessor.transform(x_test)\n",
    "\n",
    "# Convert the result back to a DataFrame if needed\n",
    "x_train_transformed = pd.DataFrame(x_train_transformed, columns=preprocessor.get_feature_names_out())\n",
    "x_test_transformed = pd.DataFrame(x_test_transformed, columns=preprocessor.get_feature_names_out())"
   ]
  },
  {
   "cell_type": "code",
   "execution_count": 14,
   "id": "d1fa1ee4",
   "metadata": {
    "execution": {
     "iopub.execute_input": "2024-09-03T22:10:45.479764Z",
     "iopub.status.busy": "2024-09-03T22:10:45.479324Z",
     "iopub.status.idle": "2024-09-03T22:10:45.511354Z",
     "shell.execute_reply": "2024-09-03T22:10:45.510193Z"
    },
    "papermill": {
     "duration": 0.047444,
     "end_time": "2024-09-03T22:10:45.513798",
     "exception": false,
     "start_time": "2024-09-03T22:10:45.466354",
     "status": "completed"
    },
    "tags": []
   },
   "outputs": [
    {
     "data": {
      "text/html": [
       "<div>\n",
       "<style scoped>\n",
       "    .dataframe tbody tr th:only-of-type {\n",
       "        vertical-align: middle;\n",
       "    }\n",
       "\n",
       "    .dataframe tbody tr th {\n",
       "        vertical-align: top;\n",
       "    }\n",
       "\n",
       "    .dataframe thead th {\n",
       "        text-align: right;\n",
       "    }\n",
       "</style>\n",
       "<table border=\"1\" class=\"dataframe\">\n",
       "  <thead>\n",
       "    <tr style=\"text-align: right;\">\n",
       "      <th></th>\n",
       "      <th>ord__ExterQual</th>\n",
       "      <th>ord__BsmtQual</th>\n",
       "      <th>ord__HeatingQC</th>\n",
       "      <th>ord__KitchenQual</th>\n",
       "      <th>ord__FireplaceQu</th>\n",
       "      <th>ord__GarageQual</th>\n",
       "      <th>ord__PoolQC</th>\n",
       "      <th>onehot__MSZoning_FV</th>\n",
       "      <th>onehot__MSZoning_RH</th>\n",
       "      <th>onehot__MSZoning_RL</th>\n",
       "      <th>...</th>\n",
       "      <th>num__GarageArea</th>\n",
       "      <th>num__WoodDeckSF</th>\n",
       "      <th>num__OpenPorchSF</th>\n",
       "      <th>num__EnclosedPorch</th>\n",
       "      <th>num__3SsnPorch</th>\n",
       "      <th>num__ScreenPorch</th>\n",
       "      <th>num__PoolArea</th>\n",
       "      <th>num__MiscVal</th>\n",
       "      <th>num__MoSold</th>\n",
       "      <th>num__YrSold</th>\n",
       "    </tr>\n",
       "  </thead>\n",
       "  <tbody>\n",
       "    <tr>\n",
       "      <th>0</th>\n",
       "      <td>3.0</td>\n",
       "      <td>3.0</td>\n",
       "      <td>4.0</td>\n",
       "      <td>3.0</td>\n",
       "      <td>5.0</td>\n",
       "      <td>4.0</td>\n",
       "      <td>3.0</td>\n",
       "      <td>0.0</td>\n",
       "      <td>0.0</td>\n",
       "      <td>1.0</td>\n",
       "      <td>...</td>\n",
       "      <td>-1.022914</td>\n",
       "      <td>1.089340</td>\n",
       "      <td>-0.989690</td>\n",
       "      <td>-0.394175</td>\n",
       "      <td>-0.130059</td>\n",
       "      <td>-0.303112</td>\n",
       "      <td>-0.070117</td>\n",
       "      <td>-0.201825</td>\n",
       "      <td>-1.771347</td>\n",
       "      <td>-1.427196</td>\n",
       "    </tr>\n",
       "    <tr>\n",
       "      <th>1</th>\n",
       "      <td>2.0</td>\n",
       "      <td>0.0</td>\n",
       "      <td>0.0</td>\n",
       "      <td>2.0</td>\n",
       "      <td>4.0</td>\n",
       "      <td>4.0</td>\n",
       "      <td>3.0</td>\n",
       "      <td>0.0</td>\n",
       "      <td>0.0</td>\n",
       "      <td>1.0</td>\n",
       "      <td>...</td>\n",
       "      <td>1.125574</td>\n",
       "      <td>1.058550</td>\n",
       "      <td>0.059491</td>\n",
       "      <td>-0.394175</td>\n",
       "      <td>-0.130059</td>\n",
       "      <td>-0.303112</td>\n",
       "      <td>-0.070117</td>\n",
       "      <td>-0.201825</td>\n",
       "      <td>-0.884128</td>\n",
       "      <td>1.563245</td>\n",
       "    </tr>\n",
       "    <tr>\n",
       "      <th>2</th>\n",
       "      <td>3.0</td>\n",
       "      <td>3.0</td>\n",
       "      <td>2.0</td>\n",
       "      <td>3.0</td>\n",
       "      <td>2.0</td>\n",
       "      <td>4.0</td>\n",
       "      <td>3.0</td>\n",
       "      <td>0.0</td>\n",
       "      <td>0.0</td>\n",
       "      <td>0.0</td>\n",
       "      <td>...</td>\n",
       "      <td>-0.557899</td>\n",
       "      <td>-0.891077</td>\n",
       "      <td>-0.989690</td>\n",
       "      <td>2.586418</td>\n",
       "      <td>-0.130059</td>\n",
       "      <td>-0.303112</td>\n",
       "      <td>-0.070117</td>\n",
       "      <td>-0.201825</td>\n",
       "      <td>-1.315784</td>\n",
       "      <td>1.563245</td>\n",
       "    </tr>\n",
       "    <tr>\n",
       "      <th>3</th>\n",
       "      <td>3.0</td>\n",
       "      <td>3.0</td>\n",
       "      <td>0.0</td>\n",
       "      <td>3.0</td>\n",
       "      <td>2.0</td>\n",
       "      <td>4.0</td>\n",
       "      <td>3.0</td>\n",
       "      <td>0.0</td>\n",
       "      <td>0.0</td>\n",
       "      <td>0.0</td>\n",
       "      <td>...</td>\n",
       "      <td>-0.268620</td>\n",
       "      <td>-0.891077</td>\n",
       "      <td>-0.157929</td>\n",
       "      <td>2.114592</td>\n",
       "      <td>-0.130059</td>\n",
       "      <td>-0.303112</td>\n",
       "      <td>-0.070117</td>\n",
       "      <td>-0.201825</td>\n",
       "      <td>1.333145</td>\n",
       "      <td>-1.427196</td>\n",
       "    </tr>\n",
       "    <tr>\n",
       "      <th>4</th>\n",
       "      <td>2.0</td>\n",
       "      <td>0.0</td>\n",
       "      <td>0.0</td>\n",
       "      <td>0.0</td>\n",
       "      <td>0.0</td>\n",
       "      <td>4.0</td>\n",
       "      <td>3.0</td>\n",
       "      <td>0.0</td>\n",
       "      <td>0.0</td>\n",
       "      <td>1.0</td>\n",
       "      <td>...</td>\n",
       "      <td>2.068701</td>\n",
       "      <td>1.251775</td>\n",
       "      <td>-0.989690</td>\n",
       "      <td>-0.394175</td>\n",
       "      <td>-0.130059</td>\n",
       "      <td>-0.303112</td>\n",
       "      <td>-0.070117</td>\n",
       "      <td>-0.201825</td>\n",
       "      <td>0.999483</td>\n",
       "      <td>0.904226</td>\n",
       "    </tr>\n",
       "  </tbody>\n",
       "</table>\n",
       "<p>5 rows × 235 columns</p>\n",
       "</div>"
      ],
      "text/plain": [
       "   ord__ExterQual  ord__BsmtQual  ord__HeatingQC  ord__KitchenQual  \\\n",
       "0             3.0            3.0             4.0               3.0   \n",
       "1             2.0            0.0             0.0               2.0   \n",
       "2             3.0            3.0             2.0               3.0   \n",
       "3             3.0            3.0             0.0               3.0   \n",
       "4             2.0            0.0             0.0               0.0   \n",
       "\n",
       "   ord__FireplaceQu  ord__GarageQual  ord__PoolQC  onehot__MSZoning_FV  \\\n",
       "0               5.0              4.0          3.0                  0.0   \n",
       "1               4.0              4.0          3.0                  0.0   \n",
       "2               2.0              4.0          3.0                  0.0   \n",
       "3               2.0              4.0          3.0                  0.0   \n",
       "4               0.0              4.0          3.0                  0.0   \n",
       "\n",
       "   onehot__MSZoning_RH  onehot__MSZoning_RL  ...  num__GarageArea  \\\n",
       "0                  0.0                  1.0  ...        -1.022914   \n",
       "1                  0.0                  1.0  ...         1.125574   \n",
       "2                  0.0                  0.0  ...        -0.557899   \n",
       "3                  0.0                  0.0  ...        -0.268620   \n",
       "4                  0.0                  1.0  ...         2.068701   \n",
       "\n",
       "   num__WoodDeckSF  num__OpenPorchSF  num__EnclosedPorch  num__3SsnPorch  \\\n",
       "0         1.089340         -0.989690           -0.394175       -0.130059   \n",
       "1         1.058550          0.059491           -0.394175       -0.130059   \n",
       "2        -0.891077         -0.989690            2.586418       -0.130059   \n",
       "3        -0.891077         -0.157929            2.114592       -0.130059   \n",
       "4         1.251775         -0.989690           -0.394175       -0.130059   \n",
       "\n",
       "   num__ScreenPorch  num__PoolArea  num__MiscVal  num__MoSold  num__YrSold  \n",
       "0         -0.303112      -0.070117     -0.201825    -1.771347    -1.427196  \n",
       "1         -0.303112      -0.070117     -0.201825    -0.884128     1.563245  \n",
       "2         -0.303112      -0.070117     -0.201825    -1.315784     1.563245  \n",
       "3         -0.303112      -0.070117     -0.201825     1.333145    -1.427196  \n",
       "4         -0.303112      -0.070117     -0.201825     0.999483     0.904226  \n",
       "\n",
       "[5 rows x 235 columns]"
      ]
     },
     "execution_count": 14,
     "metadata": {},
     "output_type": "execute_result"
    }
   ],
   "source": [
    "x_test_transformed.head()"
   ]
  },
  {
   "cell_type": "code",
   "execution_count": 15,
   "id": "0c5694c9",
   "metadata": {
    "execution": {
     "iopub.execute_input": "2024-09-03T22:10:45.540649Z",
     "iopub.status.busy": "2024-09-03T22:10:45.539502Z",
     "iopub.status.idle": "2024-09-03T22:10:45.547628Z",
     "shell.execute_reply": "2024-09-03T22:10:45.546410Z"
    },
    "papermill": {
     "duration": 0.024235,
     "end_time": "2024-09-03T22:10:45.550003",
     "exception": false,
     "start_time": "2024-09-03T22:10:45.525768",
     "status": "completed"
    },
    "tags": []
   },
   "outputs": [
    {
     "data": {
      "text/plain": [
       "Index(['ord__ExterQual', 'ord__BsmtQual', 'ord__HeatingQC', 'ord__KitchenQual',\n",
       "       'ord__FireplaceQu', 'ord__GarageQual', 'ord__PoolQC',\n",
       "       'onehot__MSZoning_FV', 'onehot__MSZoning_RH', 'onehot__MSZoning_RL',\n",
       "       ...\n",
       "       'num__GarageArea', 'num__WoodDeckSF', 'num__OpenPorchSF',\n",
       "       'num__EnclosedPorch', 'num__3SsnPorch', 'num__ScreenPorch',\n",
       "       'num__PoolArea', 'num__MiscVal', 'num__MoSold', 'num__YrSold'],\n",
       "      dtype='object', length=235)"
      ]
     },
     "execution_count": 15,
     "metadata": {},
     "output_type": "execute_result"
    }
   ],
   "source": [
    "x_train_transformed.columns"
   ]
  },
  {
   "cell_type": "code",
   "execution_count": 16,
   "id": "60bc3209",
   "metadata": {
    "execution": {
     "iopub.execute_input": "2024-09-03T22:10:45.576595Z",
     "iopub.status.busy": "2024-09-03T22:10:45.576133Z",
     "iopub.status.idle": "2024-09-03T22:10:45.597669Z",
     "shell.execute_reply": "2024-09-03T22:10:45.596447Z"
    },
    "papermill": {
     "duration": 0.037907,
     "end_time": "2024-09-03T22:10:45.600464",
     "exception": false,
     "start_time": "2024-09-03T22:10:45.562557",
     "status": "completed"
    },
    "tags": []
   },
   "outputs": [
    {
     "data": {
      "text/plain": [
       "MSSubClass        15\n",
       "MSZoning           5\n",
       "LotFrontage      105\n",
       "LotArea          797\n",
       "Street             2\n",
       "                ... \n",
       "MiscVal           16\n",
       "MoSold            12\n",
       "YrSold             5\n",
       "SaleType           9\n",
       "SaleCondition      6\n",
       "Length: 79, dtype: int64"
      ]
     },
     "execution_count": 16,
     "metadata": {},
     "output_type": "execute_result"
    }
   ],
   "source": [
    "counts = x_train.nunique()\n",
    "counts"
   ]
  },
  {
   "cell_type": "code",
   "execution_count": 17,
   "id": "5fe97463",
   "metadata": {
    "execution": {
     "iopub.execute_input": "2024-09-03T22:10:45.627566Z",
     "iopub.status.busy": "2024-09-03T22:10:45.627081Z",
     "iopub.status.idle": "2024-09-03T22:10:45.652508Z",
     "shell.execute_reply": "2024-09-03T22:10:45.650680Z"
    },
    "papermill": {
     "duration": 0.042382,
     "end_time": "2024-09-03T22:10:45.655323",
     "exception": false,
     "start_time": "2024-09-03T22:10:45.612941",
     "status": "completed"
    },
    "tags": []
   },
   "outputs": [
    {
     "name": "stdout",
     "output_type": "stream",
     "text": [
      "Column 1: 0.49% unique values\n",
      "Column 4: 0.20% unique values\n",
      "Column 5: 0.20% unique values\n",
      "Column 6: 0.39% unique values\n",
      "Column 7: 0.39% unique values\n",
      "Column 8: 0.20% unique values\n",
      "Column 9: 0.49% unique values\n",
      "Column 10: 0.29% unique values\n",
      "Column 12: 0.88% unique values\n",
      "Column 13: 0.59% unique values\n",
      "Column 14: 0.49% unique values\n",
      "Column 15: 0.78% unique values\n",
      "Column 16: 0.98% unique values\n",
      "Column 17: 0.88% unique values\n",
      "Column 20: 0.59% unique values\n",
      "Column 21: 0.68% unique values\n",
      "Column 24: 0.29% unique values\n",
      "Column 26: 0.39% unique values\n",
      "Column 27: 0.49% unique values\n",
      "Column 28: 0.59% unique values\n",
      "Column 29: 0.39% unique values\n",
      "Column 30: 0.39% unique values\n",
      "Column 31: 0.39% unique values\n",
      "Column 32: 0.59% unique values\n",
      "Column 34: 0.59% unique values\n",
      "Column 38: 0.59% unique values\n",
      "Column 39: 0.49% unique values\n",
      "Column 40: 0.20% unique values\n",
      "Column 41: 0.39% unique values\n",
      "Column 46: 0.39% unique values\n",
      "Column 47: 0.29% unique values\n",
      "Column 48: 0.39% unique values\n",
      "Column 49: 0.29% unique values\n",
      "Column 50: 0.78% unique values\n",
      "Column 51: 0.29% unique values\n",
      "Column 52: 0.39% unique values\n",
      "Column 54: 0.68% unique values\n",
      "Column 55: 0.39% unique values\n",
      "Column 56: 0.49% unique values\n",
      "Column 57: 0.59% unique values\n",
      "Column 59: 0.29% unique values\n",
      "Column 60: 0.49% unique values\n",
      "Column 62: 0.49% unique values\n",
      "Column 63: 0.49% unique values\n",
      "Column 64: 0.29% unique values\n",
      "Column 70: 0.59% unique values\n",
      "Column 71: 0.29% unique values\n",
      "Column 72: 0.39% unique values\n",
      "Column 73: 0.39% unique values\n",
      "Column 76: 0.49% unique values\n",
      "Column 77: 0.88% unique values\n",
      "Column 78: 0.59% unique values\n"
     ]
    }
   ],
   "source": [
    "for i in range(x_train.shape[1]):\n",
    "    num = x_train.iloc[:, i].nunique()\n",
    "    percentage = float(num) / float(x_train.shape[0]) * 100\n",
    "    if percentage < 1:\n",
    "        print(f\"Column {i}: {percentage:.2f}% unique values\")\n"
   ]
  },
  {
   "cell_type": "code",
   "execution_count": 18,
   "id": "27f42fab",
   "metadata": {
    "execution": {
     "iopub.execute_input": "2024-09-03T22:10:45.683508Z",
     "iopub.status.busy": "2024-09-03T22:10:45.683043Z",
     "iopub.status.idle": "2024-09-03T22:10:45.728882Z",
     "shell.execute_reply": "2024-09-03T22:10:45.727382Z"
    },
    "papermill": {
     "duration": 0.06336,
     "end_time": "2024-09-03T22:10:45.731655",
     "exception": false,
     "start_time": "2024-09-03T22:10:45.668295",
     "status": "completed"
    },
    "tags": []
   },
   "outputs": [
    {
     "name": "stdout",
     "output_type": "stream",
     "text": [
      "ord__ExterQual      0.0\n",
      "ord__BsmtQual       0.0\n",
      "ord__HeatingQC      0.0\n",
      "ord__KitchenQual    0.0\n",
      "ord__FireplaceQu    0.0\n",
      "                   ... \n",
      "num__ScreenPorch    0.0\n",
      "num__PoolArea       0.0\n",
      "num__MiscVal        0.0\n",
      "num__MoSold         0.0\n",
      "num__YrSold         0.0\n",
      "Length: 235, dtype: float64\n"
     ]
    }
   ],
   "source": [
    "#check for duplicated rows\n",
    "dups = x_train_transformed.duplicated()\n",
    "print(x_train_transformed[dups].sum())"
   ]
  },
  {
   "cell_type": "code",
   "execution_count": 19,
   "id": "5eecd3f8",
   "metadata": {
    "execution": {
     "iopub.execute_input": "2024-09-03T22:10:45.759456Z",
     "iopub.status.busy": "2024-09-03T22:10:45.758999Z",
     "iopub.status.idle": "2024-09-03T22:10:45.764478Z",
     "shell.execute_reply": "2024-09-03T22:10:45.763271Z"
    },
    "papermill": {
     "duration": 0.022327,
     "end_time": "2024-09-03T22:10:45.767009",
     "exception": false,
     "start_time": "2024-09-03T22:10:45.744682",
     "status": "completed"
    },
    "tags": []
   },
   "outputs": [],
   "source": [
    "# check for columns distribution\n",
    "# import matplotlib.pyplot as plt\n",
    "# x_train_transformed.hist(bins = 50, figsize = (200,200))\n",
    "# plt.show()"
   ]
  },
  {
   "cell_type": "code",
   "execution_count": 20,
   "id": "4b574009",
   "metadata": {
    "execution": {
     "iopub.execute_input": "2024-09-03T22:10:45.794358Z",
     "iopub.status.busy": "2024-09-03T22:10:45.793828Z",
     "iopub.status.idle": "2024-09-03T22:10:59.692984Z",
     "shell.execute_reply": "2024-09-03T22:10:59.691650Z"
    },
    "papermill": {
     "duration": 13.915936,
     "end_time": "2024-09-03T22:10:59.695570",
     "exception": false,
     "start_time": "2024-09-03T22:10:45.779634",
     "status": "completed"
    },
    "tags": []
   },
   "outputs": [
    {
     "name": "stdout",
     "output_type": "stream",
     "text": [
      "RMSE: 29843.251 (5941.953)\n"
     ]
    }
   ],
   "source": [
    "# defining model (ensemple)\n",
    "import warnings\n",
    "from sklearn.model_selection import cross_val_score\n",
    "from sklearn.model_selection import RepeatedStratifiedKFold\n",
    "from sklearn.metrics import mean_squared_error\n",
    "from numpy import mean, std\n",
    "import lightgbm as lgb\n",
    "import xgboost as xgb\n",
    "\n",
    "warnings.filterwarnings('ignore')\n",
    "\n",
    "model = lgb.LGBMRegressor(\n",
    "    objective='regression',\n",
    "    metric='rmse',\n",
    "    boosting_type='gbdt',  # Gradient Boosting Decision Tree\n",
    "    learning_rate=0.05,\n",
    "    num_leaves=31,\n",
    "    feature_fraction=0.9\n",
    ")\n",
    "\n",
    "\n",
    "# Define cross-validation strategy\n",
    "cv = RepeatedStratifiedKFold(n_splits=10, n_repeats=3, random_state=1)\n",
    "\n",
    "# Perform cross-validation\n",
    "n_scores = cross_val_score(model, x_train_transformed, y_train, scoring='neg_root_mean_squared_error', cv=cv, n_jobs=-1)\n",
    "\n",
    "# Convert negative RMSE to positive\n",
    "n_scores = -n_scores\n",
    "\n",
    "# Print the mean and standard deviation of the RMSE scores\n",
    "print('RMSE: %.3f (%.3f)' % (mean(n_scores), std(n_scores)))"
   ]
  },
  {
   "cell_type": "code",
   "execution_count": 21,
   "id": "0c2b8094",
   "metadata": {
    "execution": {
     "iopub.execute_input": "2024-09-03T22:10:59.723540Z",
     "iopub.status.busy": "2024-09-03T22:10:59.722546Z",
     "iopub.status.idle": "2024-09-03T22:11:18.930082Z",
     "shell.execute_reply": "2024-09-03T22:11:18.928512Z"
    },
    "papermill": {
     "duration": 19.224401,
     "end_time": "2024-09-03T22:11:18.932570",
     "exception": false,
     "start_time": "2024-09-03T22:10:59.708169",
     "status": "completed"
    },
    "tags": []
   },
   "outputs": [
    {
     "name": "stdout",
     "output_type": "stream",
     "text": [
      "RMSE: 30036.478 (6431.285)\n"
     ]
    }
   ],
   "source": [
    "import warnings\n",
    "from sklearn.model_selection import cross_val_score\n",
    "from sklearn.model_selection import RepeatedStratifiedKFold\n",
    "from sklearn.metrics import mean_squared_error\n",
    "from numpy import mean, std\n",
    "import lightgbm as lgb\n",
    "import xgboost as xgb\n",
    "\n",
    "# Suppress warnings and informational messages\n",
    "warnings.filterwarnings('ignore')\n",
    "\n",
    "# Defining the XGBoost model for regression\n",
    "model = xgb.XGBRegressor(\n",
    "    objective='reg:squarederror',\n",
    "    learning_rate=0.05,\n",
    "    max_depth=5,\n",
    "    n_estimators=100,\n",
    "    subsample=0.9,\n",
    "    colsample_bytree=0.9\n",
    ")\n",
    "\n",
    "# Define cross-validation strategy\n",
    "cv = RepeatedStratifiedKFold(n_splits=10, n_repeats=3, random_state=1)\n",
    "\n",
    "# Perform cross-validation\n",
    "n_scores = cross_val_score(model, x_train_transformed, y_train, scoring='neg_root_mean_squared_error', cv=cv, n_jobs=-1)\n",
    "\n",
    "# Convert negative RMSE to positive\n",
    "n_scores = -n_scores\n",
    "\n",
    "# Print the mean and standard deviation of the RMSE scores\n",
    "print('RMSE: %.3f (%.3f)' % (mean(n_scores), std(n_scores)))\n",
    "\n"
   ]
  },
  {
   "cell_type": "code",
   "execution_count": 22,
   "id": "79ae440b",
   "metadata": {
    "execution": {
     "iopub.execute_input": "2024-09-03T22:11:18.960425Z",
     "iopub.status.busy": "2024-09-03T22:11:18.959467Z",
     "iopub.status.idle": "2024-09-03T22:11:19.736590Z",
     "shell.execute_reply": "2024-09-03T22:11:19.735526Z"
    },
    "papermill": {
     "duration": 0.793871,
     "end_time": "2024-09-03T22:11:19.739284",
     "exception": false,
     "start_time": "2024-09-03T22:11:18.945413",
     "status": "completed"
    },
    "tags": []
   },
   "outputs": [
    {
     "name": "stdout",
     "output_type": "stream",
     "text": [
      "[LightGBM] [Warning] Found whitespace in feature_names, replace with underlines\n",
      "[LightGBM] [Info] Auto-choosing row-wise multi-threading, the overhead of testing was 0.003483 seconds.\n",
      "You can set `force_row_wise=true` to remove the overhead.\n",
      "And if memory is not enough, you can set `force_col_wise=true`.\n",
      "[LightGBM] [Info] Total Bins 3035\n",
      "[LightGBM] [Info] Number of data points in the train set: 1022, number of used features: 150\n",
      "[LightGBM] [Warning] Found whitespace in feature_names, replace with underlines\n",
      "[LightGBM] [Info] Start training from score 181312.692759\n",
      "[LightGBM] [Warning] No further splits with positive gain, best gain: -inf\n",
      "[LightGBM] [Warning] No further splits with positive gain, best gain: -inf\n",
      "[LightGBM] [Warning] No further splits with positive gain, best gain: -inf\n",
      "[LightGBM] [Warning] No further splits with positive gain, best gain: -inf\n",
      "[LightGBM] [Warning] No further splits with positive gain, best gain: -inf\n",
      "[LightGBM] [Warning] No further splits with positive gain, best gain: -inf\n",
      "[LightGBM] [Warning] No further splits with positive gain, best gain: -inf\n",
      "[LightGBM] [Warning] No further splits with positive gain, best gain: -inf\n",
      "[LightGBM] [Warning] No further splits with positive gain, best gain: -inf\n",
      "[LightGBM] [Warning] No further splits with positive gain, best gain: -inf\n",
      "[LightGBM] [Warning] No further splits with positive gain, best gain: -inf\n",
      "[LightGBM] [Warning] No further splits with positive gain, best gain: -inf\n",
      "[LightGBM] [Warning] No further splits with positive gain, best gain: -inf\n",
      "[LightGBM] [Warning] No further splits with positive gain, best gain: -inf\n",
      "[LightGBM] [Warning] No further splits with positive gain, best gain: -inf\n",
      "[LightGBM] [Warning] No further splits with positive gain, best gain: -inf\n",
      "[LightGBM] [Warning] No further splits with positive gain, best gain: -inf\n",
      "[LightGBM] [Warning] No further splits with positive gain, best gain: -inf\n",
      "[LightGBM] [Warning] No further splits with positive gain, best gain: -inf\n",
      "[LightGBM] [Warning] No further splits with positive gain, best gain: -inf\n",
      "[LightGBM] [Warning] No further splits with positive gain, best gain: -inf\n",
      "[LightGBM] [Warning] No further splits with positive gain, best gain: -inf\n",
      "[LightGBM] [Warning] No further splits with positive gain, best gain: -inf\n",
      "[LightGBM] [Warning] No further splits with positive gain, best gain: -inf\n",
      "[LightGBM] [Warning] No further splits with positive gain, best gain: -inf\n",
      "[LightGBM] [Warning] No further splits with positive gain, best gain: -inf\n",
      "[LightGBM] [Warning] No further splits with positive gain, best gain: -inf\n",
      "[LightGBM] [Warning] No further splits with positive gain, best gain: -inf\n",
      "[LightGBM] [Warning] No further splits with positive gain, best gain: -inf\n",
      "[LightGBM] [Warning] No further splits with positive gain, best gain: -inf\n",
      "[LightGBM] [Warning] No further splits with positive gain, best gain: -inf\n",
      "[LightGBM] [Warning] No further splits with positive gain, best gain: -inf\n",
      "[LightGBM] [Warning] No further splits with positive gain, best gain: -inf\n",
      "[LightGBM] [Warning] No further splits with positive gain, best gain: -inf\n",
      "[LightGBM] [Warning] No further splits with positive gain, best gain: -inf\n",
      "[LightGBM] [Warning] No further splits with positive gain, best gain: -inf\n",
      "[LightGBM] [Warning] No further splits with positive gain, best gain: -inf\n",
      "[LightGBM] [Warning] No further splits with positive gain, best gain: -inf\n",
      "[LightGBM] [Warning] No further splits with positive gain, best gain: -inf\n",
      "[LightGBM] [Warning] No further splits with positive gain, best gain: -inf\n",
      "LightGBM RMSE: 26513.23906839064\n"
     ]
    }
   ],
   "source": [
    "# Set the parameters for XGBoost\n",
    "# Create the LightGBM dataset\n",
    "train_data = lgb.Dataset(x_train_transformed, label=y_train)\n",
    "test_data = lgb.Dataset(x_test_transformed, label=y_test, reference=train_data)\n",
    "\n",
    "# Set the parameters for LightGBM\n",
    "params = {\n",
    "    'objective': 'regression',\n",
    "    'metric': 'rmse',\n",
    "    'boosting_type': 'gbdt',  # Gradient Boosting Decision Tree\n",
    "    'learning_rate': 0.09,\n",
    "    'num_leaves': 40,\n",
    "    'feature_fraction': 0.9\n",
    "}\n",
    "\n",
    "# Train the LightGBM model\n",
    "lgb_model = lgb.train(params, train_data, num_boost_round=100, valid_sets=[test_data])\n",
    "\n",
    "# Predict on the test set\n",
    "y_pred_lgb = lgb_model.predict(x_test_transformed, num_iteration=lgb_model.best_iteration)\n",
    "\n",
    "# Calculate RMSE for LightGBM\n",
    "rmse_lgb = mean_squared_error(y_test, y_pred_lgb, squared=False)\n",
    "print(f'LightGBM RMSE: {rmse_lgb}')"
   ]
  },
  {
   "cell_type": "code",
   "execution_count": 23,
   "id": "a3f8bd44",
   "metadata": {
    "execution": {
     "iopub.execute_input": "2024-09-03T22:11:19.768290Z",
     "iopub.status.busy": "2024-09-03T22:11:19.767839Z",
     "iopub.status.idle": "2024-09-03T22:11:19.883144Z",
     "shell.execute_reply": "2024-09-03T22:11:19.882068Z"
    },
    "papermill": {
     "duration": 0.133053,
     "end_time": "2024-09-03T22:11:19.885833",
     "exception": false,
     "start_time": "2024-09-03T22:11:19.752780",
     "status": "completed"
    },
    "tags": []
   },
   "outputs": [
    {
     "data": {
      "text/html": [
       "<div>\n",
       "<style scoped>\n",
       "    .dataframe tbody tr th:only-of-type {\n",
       "        vertical-align: middle;\n",
       "    }\n",
       "\n",
       "    .dataframe tbody tr th {\n",
       "        vertical-align: top;\n",
       "    }\n",
       "\n",
       "    .dataframe thead th {\n",
       "        text-align: right;\n",
       "    }\n",
       "</style>\n",
       "<table border=\"1\" class=\"dataframe\">\n",
       "  <thead>\n",
       "    <tr style=\"text-align: right;\">\n",
       "      <th></th>\n",
       "      <th>Id</th>\n",
       "      <th>SalePrice</th>\n",
       "    </tr>\n",
       "  </thead>\n",
       "  <tbody>\n",
       "    <tr>\n",
       "      <th>0</th>\n",
       "      <td>1461</td>\n",
       "      <td>130963.988369</td>\n",
       "    </tr>\n",
       "    <tr>\n",
       "      <th>1</th>\n",
       "      <td>1462</td>\n",
       "      <td>159567.356349</td>\n",
       "    </tr>\n",
       "    <tr>\n",
       "      <th>2</th>\n",
       "      <td>1463</td>\n",
       "      <td>191519.625487</td>\n",
       "    </tr>\n",
       "    <tr>\n",
       "      <th>3</th>\n",
       "      <td>1464</td>\n",
       "      <td>190580.385104</td>\n",
       "    </tr>\n",
       "    <tr>\n",
       "      <th>4</th>\n",
       "      <td>1465</td>\n",
       "      <td>196601.725556</td>\n",
       "    </tr>\n",
       "  </tbody>\n",
       "</table>\n",
       "</div>"
      ],
      "text/plain": [
       "     Id      SalePrice\n",
       "0  1461  130963.988369\n",
       "1  1462  159567.356349\n",
       "2  1463  191519.625487\n",
       "3  1464  190580.385104\n",
       "4  1465  196601.725556"
      ]
     },
     "execution_count": 23,
     "metadata": {},
     "output_type": "execute_result"
    }
   ],
   "source": [
    "test_file_path = \"../input/house-prices-advanced-regression-techniques/test.csv\"\n",
    "test_data = pd.read_csv(test_file_path)\n",
    "ids = test_data.pop('Id')\n",
    "\n",
    "test_transformed =  preprocessor.transform(test_data)\n",
    "\n",
    "preds = lgb_model.predict(test_transformed)\n",
    "output = pd.DataFrame({'Id': ids,\n",
    "                       'SalePrice': preds.squeeze()})\n",
    "\n",
    "output.head()"
   ]
  },
  {
   "cell_type": "code",
   "execution_count": 24,
   "id": "d1934ea4",
   "metadata": {
    "execution": {
     "iopub.execute_input": "2024-09-03T22:11:19.916103Z",
     "iopub.status.busy": "2024-09-03T22:11:19.915681Z",
     "iopub.status.idle": "2024-09-03T22:11:19.947393Z",
     "shell.execute_reply": "2024-09-03T22:11:19.946314Z"
    },
    "papermill": {
     "duration": 0.049894,
     "end_time": "2024-09-03T22:11:19.950049",
     "exception": false,
     "start_time": "2024-09-03T22:11:19.900155",
     "status": "completed"
    },
    "tags": []
   },
   "outputs": [
    {
     "data": {
      "text/html": [
       "<div>\n",
       "<style scoped>\n",
       "    .dataframe tbody tr th:only-of-type {\n",
       "        vertical-align: middle;\n",
       "    }\n",
       "\n",
       "    .dataframe tbody tr th {\n",
       "        vertical-align: top;\n",
       "    }\n",
       "\n",
       "    .dataframe thead th {\n",
       "        text-align: right;\n",
       "    }\n",
       "</style>\n",
       "<table border=\"1\" class=\"dataframe\">\n",
       "  <thead>\n",
       "    <tr style=\"text-align: right;\">\n",
       "      <th></th>\n",
       "      <th>Id</th>\n",
       "      <th>SalePrice</th>\n",
       "    </tr>\n",
       "  </thead>\n",
       "  <tbody>\n",
       "    <tr>\n",
       "      <th>0</th>\n",
       "      <td>1461</td>\n",
       "      <td>130963.988369</td>\n",
       "    </tr>\n",
       "    <tr>\n",
       "      <th>1</th>\n",
       "      <td>1462</td>\n",
       "      <td>159567.356349</td>\n",
       "    </tr>\n",
       "    <tr>\n",
       "      <th>2</th>\n",
       "      <td>1463</td>\n",
       "      <td>191519.625487</td>\n",
       "    </tr>\n",
       "    <tr>\n",
       "      <th>3</th>\n",
       "      <td>1464</td>\n",
       "      <td>190580.385104</td>\n",
       "    </tr>\n",
       "    <tr>\n",
       "      <th>4</th>\n",
       "      <td>1465</td>\n",
       "      <td>196601.725556</td>\n",
       "    </tr>\n",
       "  </tbody>\n",
       "</table>\n",
       "</div>"
      ],
      "text/plain": [
       "     Id      SalePrice\n",
       "0  1461  130963.988369\n",
       "1  1462  159567.356349\n",
       "2  1463  191519.625487\n",
       "3  1464  190580.385104\n",
       "4  1465  196601.725556"
      ]
     },
     "execution_count": 24,
     "metadata": {},
     "output_type": "execute_result"
    }
   ],
   "source": [
    "sample_submission_df = pd.read_csv('../input/house-prices-advanced-regression-techniques/sample_submission.csv')\n",
    "sample_submission_df['SalePrice'] = lgb_model.predict(test_transformed)\n",
    "sample_submission_df.to_csv('submission.csv', index = False)\n",
    "sample_submission_df.head()"
   ]
  },
  {
   "cell_type": "code",
   "execution_count": 25,
   "id": "68cf099b",
   "metadata": {
    "execution": {
     "iopub.execute_input": "2024-09-03T22:11:19.979732Z",
     "iopub.status.busy": "2024-09-03T22:11:19.979324Z",
     "iopub.status.idle": "2024-09-03T22:11:19.998472Z",
     "shell.execute_reply": "2024-09-03T22:11:19.997377Z"
    },
    "papermill": {
     "duration": 0.036729,
     "end_time": "2024-09-03T22:11:20.000849",
     "exception": false,
     "start_time": "2024-09-03T22:11:19.964120",
     "status": "completed"
    },
    "tags": []
   },
   "outputs": [
    {
     "data": {
      "text/html": [
       "<div>\n",
       "<style scoped>\n",
       "    .dataframe tbody tr th:only-of-type {\n",
       "        vertical-align: middle;\n",
       "    }\n",
       "\n",
       "    .dataframe tbody tr th {\n",
       "        vertical-align: top;\n",
       "    }\n",
       "\n",
       "    .dataframe thead th {\n",
       "        text-align: right;\n",
       "    }\n",
       "</style>\n",
       "<table border=\"1\" class=\"dataframe\">\n",
       "  <thead>\n",
       "    <tr style=\"text-align: right;\">\n",
       "      <th></th>\n",
       "      <th>Id</th>\n",
       "      <th>SalePrice</th>\n",
       "    </tr>\n",
       "  </thead>\n",
       "  <tbody>\n",
       "    <tr>\n",
       "      <th>0</th>\n",
       "      <td>1461</td>\n",
       "      <td>130963.988369</td>\n",
       "    </tr>\n",
       "    <tr>\n",
       "      <th>1</th>\n",
       "      <td>1462</td>\n",
       "      <td>159567.356349</td>\n",
       "    </tr>\n",
       "    <tr>\n",
       "      <th>2</th>\n",
       "      <td>1463</td>\n",
       "      <td>191519.625487</td>\n",
       "    </tr>\n",
       "    <tr>\n",
       "      <th>3</th>\n",
       "      <td>1464</td>\n",
       "      <td>190580.385104</td>\n",
       "    </tr>\n",
       "    <tr>\n",
       "      <th>4</th>\n",
       "      <td>1465</td>\n",
       "      <td>196601.725556</td>\n",
       "    </tr>\n",
       "    <tr>\n",
       "      <th>...</th>\n",
       "      <td>...</td>\n",
       "      <td>...</td>\n",
       "    </tr>\n",
       "    <tr>\n",
       "      <th>1454</th>\n",
       "      <td>2915</td>\n",
       "      <td>76417.665465</td>\n",
       "    </tr>\n",
       "    <tr>\n",
       "      <th>1455</th>\n",
       "      <td>2916</td>\n",
       "      <td>87181.626436</td>\n",
       "    </tr>\n",
       "    <tr>\n",
       "      <th>1456</th>\n",
       "      <td>2917</td>\n",
       "      <td>158220.717030</td>\n",
       "    </tr>\n",
       "    <tr>\n",
       "      <th>1457</th>\n",
       "      <td>2918</td>\n",
       "      <td>120984.135400</td>\n",
       "    </tr>\n",
       "    <tr>\n",
       "      <th>1458</th>\n",
       "      <td>2919</td>\n",
       "      <td>212699.084878</td>\n",
       "    </tr>\n",
       "  </tbody>\n",
       "</table>\n",
       "<p>1459 rows × 2 columns</p>\n",
       "</div>"
      ],
      "text/plain": [
       "        Id      SalePrice\n",
       "0     1461  130963.988369\n",
       "1     1462  159567.356349\n",
       "2     1463  191519.625487\n",
       "3     1464  190580.385104\n",
       "4     1465  196601.725556\n",
       "...    ...            ...\n",
       "1454  2915   76417.665465\n",
       "1455  2916   87181.626436\n",
       "1456  2917  158220.717030\n",
       "1457  2918  120984.135400\n",
       "1458  2919  212699.084878\n",
       "\n",
       "[1459 rows x 2 columns]"
      ]
     },
     "execution_count": 25,
     "metadata": {},
     "output_type": "execute_result"
    }
   ],
   "source": [
    "pd.read_csv(\"submission.csv\")"
   ]
  },
  {
   "cell_type": "code",
   "execution_count": null,
   "id": "d4fde20c",
   "metadata": {
    "papermill": {
     "duration": 0.013962,
     "end_time": "2024-09-03T22:11:20.028968",
     "exception": false,
     "start_time": "2024-09-03T22:11:20.015006",
     "status": "completed"
    },
    "tags": []
   },
   "outputs": [],
   "source": []
  },
  {
   "cell_type": "code",
   "execution_count": null,
   "id": "bfd7b62b",
   "metadata": {
    "papermill": {
     "duration": 0.013758,
     "end_time": "2024-09-03T22:11:20.056850",
     "exception": false,
     "start_time": "2024-09-03T22:11:20.043092",
     "status": "completed"
    },
    "tags": []
   },
   "outputs": [],
   "source": []
  }
 ],
 "metadata": {
  "kaggle": {
   "accelerator": "none",
   "dataSources": [
    {
     "databundleVersionId": 868283,
     "sourceId": 5407,
     "sourceType": "competition"
    }
   ],
   "dockerImageVersionId": 30761,
   "isGpuEnabled": false,
   "isInternetEnabled": true,
   "language": "python",
   "sourceType": "notebook"
  },
  "kernelspec": {
   "display_name": "Python 3",
   "language": "python",
   "name": "python3"
  },
  "language_info": {
   "codemirror_mode": {
    "name": "ipython",
    "version": 3
   },
   "file_extension": ".py",
   "mimetype": "text/x-python",
   "name": "python",
   "nbconvert_exporter": "python",
   "pygments_lexer": "ipython3",
   "version": "3.10.14"
  },
  "papermill": {
   "default_parameters": {},
   "duration": 44.246595,
   "end_time": "2024-09-03T22:11:22.692351",
   "environment_variables": {},
   "exception": null,
   "input_path": "__notebook__.ipynb",
   "output_path": "__notebook__.ipynb",
   "parameters": {},
   "start_time": "2024-09-03T22:10:38.445756",
   "version": "2.6.0"
  }
 },
 "nbformat": 4,
 "nbformat_minor": 5
}
